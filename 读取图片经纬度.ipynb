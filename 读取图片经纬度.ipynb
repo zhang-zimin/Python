{
 "cells": [
  {
   "cell_type": "code",
   "execution_count": 10,
   "id": "inside-founder",
   "metadata": {},
   "outputs": [
    {
     "data": {
      "text/plain": [
       "[[34.89625697222222, 112.53596697222223],\n",
       " [34.89583997222222, 112.53571597222222],\n",
       " [34.89951297222222, 112.54932099999999],\n",
       " [34.898096, 112.53644097222222],\n",
       " [34.89951297222222, 112.54932099999999]]"
      ]
     },
     "execution_count": 10,
     "metadata": {},
     "output_type": "execute_result"
    }
   ],
   "source": [
    "import exifread\n",
    "import os\n",
    "\n",
    "经纬度 = []\n",
    "filenames=os.listdir(r'E:\\OneDrive - HHU\\西霞院\\照片')\n",
    "for file in filenames:\n",
    "    with open(f'E:\\OneDrive - HHU\\西霞院\\照片\\{file}', 'rb') as f:\n",
    "        exif_dict = exifread.process_file(f)\n",
    "        lon_ref = exif_dict[\"GPS GPSLongitudeRef\"].printable\n",
    "        lon = exif_dict[\"GPS GPSLongitude\"].printable[1:-1].replace(\" \", \"\").replace(\"/\", \",\").split(\",\")\n",
    "        lon = float(lon[0]) + float(lon[1]) / 60 + float(lon[2]) / float(lon[3]) / 3600\n",
    "        if lon_ref != \"E\":\n",
    "            lon = lon * (-1)\n",
    "\n",
    "        lat_ref = exif_dict[\"GPS GPSLatitudeRef\"].printable\n",
    "        lat = exif_dict[\"GPS GPSLatitude\"].printable[1:-1].replace(\" \", \"\").replace(\"/\", \",\").split(\",\")\n",
    "        lat = float(lat[0]) + float(lat[1]) / 60 + float(lat[2]) / float(lat[3]) / 3600\n",
    "        if lat_ref != \"N\":\n",
    "            lat = lat * (-1)\n",
    "        经纬度.append([lat,lon])\n",
    "经纬度"
   ]
  }
 ],
 "metadata": {
  "kernelspec": {
   "display_name": "Python 3",
   "language": "python",
   "name": "python3"
  },
  "language_info": {
   "codemirror_mode": {
    "name": "ipython",
    "version": 3
   },
   "file_extension": ".py",
   "mimetype": "text/x-python",
   "name": "python",
   "nbconvert_exporter": "python",
   "pygments_lexer": "ipython3",
   "version": "3.9.1"
  }
 },
 "nbformat": 4,
 "nbformat_minor": 5
}
